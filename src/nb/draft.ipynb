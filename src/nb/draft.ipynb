{
 "cells": [
  {
   "attachments": {},
   "cell_type": "markdown",
   "metadata": {},
   "source": [
    "## Data process for feature extract"
   ]
  },
  {
   "cell_type": "code",
   "execution_count": null,
   "metadata": {},
   "outputs": [],
   "source": [
    "import glob\n",
    "import os\n",
    "\n",
    "def read_file(path):\n",
    "    \"\"\"return complete path of all files under input path\"\"\"\n",
    "\n",
    "    file_names = os.listdir(path)\n",
    "    file_path = [os.path.join(path, file_name) for file_name in file_names]\n",
    "\n",
    "    return file_path \n",
    "\n",
    "l = read_file(\"/sharefs/baai-mrnd/yfl/codebase/Dialog/src/new_generate_sent_set/ddl_vlt5_reg_baseline/refcoco\") \n",
    "l += read_file(\"/sharefs/baai-mrnd/yfl/codebase/Dialog/src/new_generate_sent_set/ddl_vlt5_reg_baseline/refcoco+\")\n",
    "l += read_file(\"/sharefs/baai-mrnd/yfl/codebase/Dialog/src/new_generate_sent_set/ddl_vlt5_reg_baseline/refcocog\")"
   ]
  },
  {
   "cell_type": "code",
   "execution_count": null,
   "metadata": {},
   "outputs": [],
   "source": [
    "l"
   ]
  },
  {
   "cell_type": "code",
   "execution_count": null,
   "metadata": {},
   "outputs": [],
   "source": [
    "import json\n",
    "\n",
    "for file_path in l:\n",
    "\n",
    "    with open(file_path, 'r') as fn:\n",
    "        datum = json.load(fn)\n",
    "\n",
    "    for idx, it in enumerate(datum):\n",
    "        it['uni_id'] = idx\n",
    "\n",
    "    save_path = file_path.rsplit('.', 1)[0] + '_new.json'\n",
    "    with open(save_path, 'w') as fn:\n",
    "        json.dump(datum, fn)"
   ]
  },
  {
   "cell_type": "code",
   "execution_count": null,
   "metadata": {},
   "outputs": [],
   "source": [
    "for f in glob.glob('/sharefs/baai-mrnd/yfl/codebase/Dialog/src/new_generate_sent_set/ddl_vlt5_reg_baseline/refcoco/*new*'):\n",
    "    print('good' in f)"
   ]
  },
  {
   "attachments": {},
   "cell_type": "markdown",
   "metadata": {},
   "source": [
    "## misc"
   ]
  },
  {
   "cell_type": "code",
   "execution_count": 1,
   "metadata": {},
   "outputs": [],
   "source": [
    "import json\n",
    "\n",
    "path = '/sharefs/baai-mrnd/yfl/codebase/Dialog/src/new_generate_sent_set/ddl_vlt5_reg_baseline/refcoco/ddl_vlt5_reg_baseline_refcoco_good_sent_threshold_0.5_with_bbox_new.json'\n",
    "\n",
    "with open(path, 'r') as fn:\n",
    "    d = json.load(fn)"
   ]
  },
  {
   "cell_type": "code",
   "execution_count": 2,
   "metadata": {},
   "outputs": [
    {
     "data": {
      "text/plain": [
       "187245"
      ]
     },
     "execution_count": 2,
     "metadata": {},
     "output_type": "execute_result"
    }
   ],
   "source": [
    "len(d)"
   ]
  },
  {
   "cell_type": "code",
   "execution_count": null,
   "metadata": {},
   "outputs": [],
   "source": []
  }
 ],
 "metadata": {
  "kernelspec": {
   "display_name": "Python 3.6.9 64-bit",
   "language": "python",
   "name": "python3"
  },
  "language_info": {
   "codemirror_mode": {
    "name": "ipython",
    "version": 3
   },
   "file_extension": ".py",
   "mimetype": "text/x-python",
   "name": "python",
   "nbconvert_exporter": "python",
   "pygments_lexer": "ipython3",
   "version": "3.8.10 (default, Sep 28 2021, 16:10:42) \n[GCC 9.3.0]"
  },
  "orig_nbformat": 4,
  "vscode": {
   "interpreter": {
    "hash": "31f2aee4e71d21fbe5cf8b01ff0e069b9275f58929596ceb00d14d90e3e16cd6"
   }
  }
 },
 "nbformat": 4,
 "nbformat_minor": 2
}
